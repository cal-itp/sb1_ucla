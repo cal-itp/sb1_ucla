{
 "cells": [
  {
   "cell_type": "markdown",
   "id": "552c5257-abc2-4929-806c-89ec3012c480",
   "metadata": {},
   "source": [
    "# Data Cleaning"
   ]
  },
  {
   "cell_type": "code",
   "execution_count": null,
   "id": "ebac6ad2-f3c2-4633-b208-43bcd9aa8465",
   "metadata": {},
   "outputs": [],
   "source": [
    "import pandas as pd"
   ]
  },
  {
   "cell_type": "code",
   "execution_count": null,
   "id": "001cdf21-9e05-4ec0-98ac-dad12ead6b52",
   "metadata": {},
   "outputs": [],
   "source": [
    "df = pd.read_csv(\"SB1_Table_01112022.csv\")"
   ]
  },
  {
   "cell_type": "code",
   "execution_count": null,
   "id": "0052ee6a-1408-4043-82dc-c97df4b70600",
   "metadata": {},
   "outputs": [],
   "source": [
    "# Take away spaces and add underscores, make lowercase\n",
    "df.columns = df.columns.str.replace(' ', '_').str.lower()\n",
    "df.columns"
   ]
  },
  {
   "cell_type": "code",
   "execution_count": null,
   "id": "fbb4a576-6cb4-4b5f-80df-13d426af4a26",
   "metadata": {},
   "outputs": [],
   "source": [
    "# Strip away question marks in column names\n"
   ]
  },
  {
   "cell_type": "code",
   "execution_count": null,
   "id": "f6a88258-47aa-42c5-a1ac-46fd80710908",
   "metadata": {},
   "outputs": [],
   "source": [
    "# Other way to rename columns\n",
    "df = df.rename(columns = {\"old_name\": \"new_name\"})"
   ]
  },
  {
   "cell_type": "code",
   "execution_count": null,
   "id": "6d344f7e-4ba8-49d6-98e2-61877ff81001",
   "metadata": {},
   "outputs": [],
   "source": [
    "# What kind of values are stored in the columns? Use a loop\n",
    "# Loop through more columns that you'll need\n",
    "cols = [\"implementing_agency\", \"program\", \"fiscal_year\", ]\n",
    "for c in cols:\n",
    "    print(c)\n",
    "    print(\"******************************************\")\n",
    "    print(df[c].value_counts())"
   ]
  },
  {
   "cell_type": "code",
   "execution_count": null,
   "id": "ebbfe85f-7f8e-4dca-be0c-65699a821967",
   "metadata": {},
   "outputs": [],
   "source": [
    "df[df.fiscal_year==\"13-Dec\"]"
   ]
  },
  {
   "cell_type": "code",
   "execution_count": null,
   "id": "5bb5652a-2525-4280-a8d5-58a3221bd5c8",
   "metadata": {},
   "outputs": [],
   "source": [
    "# Clean values\n",
    "\n",
    "# Use a lambda statement to replace if it's very few\n",
    "# How to read: go through each row (axis=1), and if it says 13-Dec, replace with 12/13\n",
    "# otherwise, keep the original value\n",
    "df = df.assign(\n",
    "    fiscal_year = df.apply(lambda x: \"12/13\" if x.fiscal_year==\"13-Dec\" \n",
    "                           else x.fiscal_year, axis=1)\n",
    ")"
   ]
  },
  {
   "cell_type": "code",
   "execution_count": null,
   "id": "ed7f2c68-a2dc-4cd5-9491-519906601c1b",
   "metadata": {},
   "outputs": [],
   "source": [
    "# Use a function to clean values\n",
    "df = df.rename(columns = {\"is_sb_1?\": \"is_sb_1\"})\n",
    "def is_sb1(x):\n",
    "    if x.is_sb_1==\"Y\":\n",
    "        return 1\n",
    "    elif x.is_sb_1==\"N\":\n",
    "        return 0\n",
    "    # You don't need this, but there are more than 2 conditions (if/else),\n",
    "    # use if, elif, else\n",
    "    #else:\n",
    "        #return some-other-value\n",
    "    \n",
    "df = df.assign(\n",
    "    is_sb_1 = df.apply(is_sb1, axis=1)\n",
    ")\n",
    "\n",
    "df.is_sb_1.value_counts()"
   ]
  },
  {
   "cell_type": "code",
   "execution_count": null,
   "id": "32528424-f0b0-4125-849c-c486974dc40c",
   "metadata": {},
   "outputs": [],
   "source": [
    "# Clean up values using df.apply or functions\n",
    "# At least clean project_status, program, fiscal_year"
   ]
  },
  {
   "cell_type": "code",
   "execution_count": null,
   "id": "b6a6da7c-ea37-4dcf-9057-efa7a820b947",
   "metadata": {},
   "outputs": [],
   "source": [
    "# Use a function and tag program into broader categories\n",
    "# Either roads, active transportation, rail, etc\n"
   ]
  },
  {
   "cell_type": "code",
   "execution_count": null,
   "id": "34220747-29b7-4075-bc23-782d55235a7e",
   "metadata": {},
   "outputs": [],
   "source": [
    "# Do some aggregations with groupby/agg\n",
    "# Try it at a more granular level than fiscal year\n",
    "df.groupby([\"fiscal_year\"]).agg(\n",
    "    {\"project_id\": \"count\",\n",
    "     \"implementing_agency\": \"nunique\",\n",
    "    }).reset_index()"
   ]
  },
  {
   "cell_type": "code",
   "execution_count": null,
   "id": "5a3c73e7-4e2c-4287-8415-99014b385a8e",
   "metadata": {},
   "outputs": [],
   "source": []
  }
 ],
 "metadata": {
  "kernelspec": {
   "display_name": "Python 3 (ipykernel)",
   "language": "python",
   "name": "python3"
  },
  "language_info": {
   "codemirror_mode": {
    "name": "ipython",
    "version": 3
   },
   "file_extension": ".py",
   "mimetype": "text/x-python",
   "name": "python",
   "nbconvert_exporter": "python",
   "pygments_lexer": "ipython3",
   "version": "3.9.7"
  }
 },
 "nbformat": 4,
 "nbformat_minor": 5
}
